{
 "cells": [
  {
   "cell_type": "markdown",
   "metadata": {},
   "source": [
    "#### 1. Сформулируйте нулевые и альтернативные гипотезы и проведите следующие тесты:\n",
    "1. Одновыборочный параметрический тест\n",
    "2. Двухвыборочный параметрический и непараметрический тесты\n",
    "3.  Параметрический и непараметрический тесты для парных наблюдений\n",
    "\n",
    "*Из пяти перечисленных тестов как минимум два нужно сделать вручную (т.е. статистику для теста нужно посчитать самостоятельно, без использования готовой функции из пакета*\n",
    "\n"
   ]
  },
  {
   "cell_type": "code",
   "execution_count": 110,
   "metadata": {
    "collapsed": true
   },
   "outputs": [],
   "source": [
    "import pandas as pd\n",
    "import numpy as np\n",
    "from matplotlib import pyplot as plt\n",
    "import seaborn as sns\n",
    "from sklearn.utils import resample\n",
    "import scipy.stats as stats\n",
    "%matplotlib inline"
   ]
  },
  {
   "cell_type": "markdown",
   "metadata": {},
   "source": [
    "Загрузим данные:"
   ]
  },
  {
   "cell_type": "code",
   "execution_count": 83,
   "metadata": {
    "collapsed": false
   },
   "outputs": [],
   "source": [
    "data = pd.read_csv('salaries.csv',header = 0)"
   ]
  },
  {
   "cell_type": "code",
   "execution_count": 84,
   "metadata": {
    "collapsed": false
   },
   "outputs": [
    {
     "name": "stdout",
     "output_type": "stream",
     "text": [
      "Количество записей:  52256\n",
      "Количество уникальных записей JobTitle 4072\n",
      "Количество уникальных записей AgencyTitle 120\n"
     ]
    }
   ],
   "source": [
    "print \"Количество записей: \",len(data)\n",
    "print \"Количество уникальных записей JobTitle\",len(data['JobTitle'].unique())\n",
    "print \"Количество уникальных записей AgencyTitle\",len(data['AgencyTitle'].unique())"
   ]
  },
  {
   "cell_type": "markdown",
   "metadata": {},
   "source": [
    "Видно, что различных \"AgencyTitle\" на порядок меньше \"JobTitle\", поэтому в первую очередь попробуем разбить выборку по типам \"AgencyTitle\"\n",
    "\n",
    "**0. Для начала, посмотрим на данные**\n",
    "\n",
    "Посмотрим, записей для какого Agency больше всего"
   ]
  },
  {
   "cell_type": "code",
   "execution_count": 85,
   "metadata": {
    "collapsed": false
   },
   "outputs": [
    {
     "data": {
      "text/plain": [
       "University of Washington          14359\n",
       "Social and Health Services         7055\n",
       "Transportation                     4492\n",
       "Corrections                        2013\n",
       "Western Washington University      1376\n",
       "Seattle Community College          1162\n",
       "Employment Security Department     1121\n",
       "Labor and Industries               1067\n",
       "Eastern Washington University      1052\n",
       "Spokane Community College          1012\n",
       "Name: AgencyTitle, dtype: int64"
      ]
     },
     "execution_count": 85,
     "metadata": {},
     "output_type": "execute_result"
    }
   ],
   "source": [
    "data[\"AgencyTitle\"].value_counts()[:10]"
   ]
  },
  {
   "cell_type": "markdown",
   "metadata": {},
   "source": [
    "Выделим выборку из 1000 записей"
   ]
  },
  {
   "cell_type": "code",
   "execution_count": 111,
   "metadata": {
    "collapsed": false
   },
   "outputs": [],
   "source": [
    "samplesize = 1000\n",
    "population = data[data[\"AgencyTitle\"] == 'University of Washington']\n",
    "sample = population.sample(n = samplesize)"
   ]
  },
  {
   "cell_type": "markdown",
   "metadata": {},
   "source": [
    "Попробуем взглянуть на Salaries2011 у Washington "
   ]
  },
  {
   "cell_type": "code",
   "execution_count": 87,
   "metadata": {
    "collapsed": false
   },
   "outputs": [
    {
     "data": {
      "text/plain": [
       "<matplotlib.axes._subplots.AxesSubplot at 0x7f2232363690>"
      ]
     },
     "execution_count": 87,
     "metadata": {},
     "output_type": "execute_result"
    },
    {
     "data": {
      "image/png": "[encoded data removed]",
      "text/plain": [
       "<matplotlib.figure.Figure at 0x7f2231ac74d0>"
      ]
     },
     "metadata": {},
     "output_type": "display_data"
    }
   ],
   "source": [
    "sample['Salary2011'].hist(bins = 50)"
   ]
  },
  {
   "cell_type": "markdown",
   "metadata": {},
   "source": [
    "видно, что данные \"сильно смещены\" в лево. Возможно, зарплата за 2011 год подчиняется логнормальному распределению. Применим к каждому элементу этого столбца функцию log(1 + x) и посмотрим на гистограмму распределений "
   ]
  },
  {
   "cell_type": "code",
   "execution_count": 88,
   "metadata": {
    "collapsed": false
   },
   "outputs": [
    {
     "data": {
      "text/plain": [
       "<matplotlib.axes._subplots.AxesSubplot at 0x7f2231930cd0>"
      ]
     },
     "execution_count": 88,
     "metadata": {},
     "output_type": "execute_result"
    },
    {
     "data": {
      "image/png": "[encoded data removed]",
      "text/plain": [
       "<matplotlib.figure.Figure at 0x7f22353442d0>"
      ]
     },
     "metadata": {},
     "output_type": "display_data"
    }
   ],
   "source": [
    "sns.distplot(sample['Salary2011'].apply(np.log),kde = True)"
   ]
  },
  {
   "cell_type": "code",
   "execution_count": 89,
   "metadata": {
    "collapsed": false
   },
   "outputs": [],
   "source": [
    "log_salaries = sample['Salary2011'].apply(np.log)"
   ]
  },
  {
   "cell_type": "markdown",
   "metadata": {
    "collapsed": true
   },
   "source": [
    "Выдвинем гипотезу о том, что заработная плата за 2011 год имеет логнормальное распределение. Или же прологорифированная выборка подчиняется нормальному распределению. "
   ]
  },
  {
   "cell_type": "markdown",
   "metadata": {},
   "source": [
    "Мы видим, что p value ,близко к 0, значит гипотеза о нормальности не выполняется. Возможно из-за неравномерных хвостов у этого распределения"
   ]
  },
  {
   "cell_type": "code",
   "execution_count": 90,
   "metadata": {
    "collapsed": false
   },
   "outputs": [
    {
     "data": {
      "text/plain": [
       "(0.8540631532669067, 2.0632439345971848e-29)"
      ]
     },
     "execution_count": 90,
     "metadata": {},
     "output_type": "execute_result"
    }
   ],
   "source": [
    "stats.shapiro(log_salaries.values)"
   ]
  },
  {
   "cell_type": "markdown",
   "metadata": {},
   "source": [
    "** 1. Гипотезы и тесты будем выдвигать последовательно**"
   ]
  },
  {
   "cell_type": "markdown",
   "metadata": {},
   "source": [
    "Подсчитаем выборочное среднее зарплаты за 2010"
   ]
  },
  {
   "cell_type": "markdown",
   "metadata": {},
   "source": [
    "Выдвинем гипотезу (гипотеза 1) среднее значение заработной платы за 2011 год равно 65500:\n",
    "$$ H_0: \\mu = 65500$$\n",
    "альтернативную гипотезу будем считать двусторонней\n",
    "$$ H_1: \\mu \\neq 65500$$"
   ]
  },
  {
   "cell_type": "code",
   "execution_count": 91,
   "metadata": {
    "collapsed": false
   },
   "outputs": [],
   "source": [
    "def my_sample_mean(series):\n",
    "    mean = 0\n",
    "    N = float(len(series))\n",
    "    for value in series.values:\n",
    "        mean += value/N\n",
    "    return mean\n",
    "\n",
    "def my_unbiased_std(series):\n",
    "    mean = my_sample_mean(series)\n",
    "    std = 0\n",
    "    N = float(len(series))\n",
    "    for value in series.values:\n",
    "        std += (1/(N - 1))*(value - mean)**2\n",
    "    return np.sqrt(std)"
   ]
  },
  {
   "cell_type": "code",
   "execution_count": 92,
   "metadata": {
    "collapsed": false
   },
   "outputs": [],
   "source": [
    "x_bar = my_sample_mean(sample['Salary2011'])"
   ]
  },
  {
   "cell_type": "markdown",
   "metadata": {},
   "source": [
    "1.1 Проведём однопараметрический тест Стьюдента. Уровень доверия выберем 0.95:"
   ]
  },
  {
   "cell_type": "code",
   "execution_count": 93,
   "metadata": {
    "collapsed": false
   },
   "outputs": [],
   "source": [
    "mu = 65500\n",
    "s = my_unbiased_std(sample['Salary2011'])\n",
    "t_obs = np.sqrt(len(sample))*(x_bar - mu)/s"
   ]
  },
  {
   "cell_type": "code",
   "execution_count": 94,
   "metadata": {
    "collapsed": false
   },
   "outputs": [
    {
     "name": "stdout",
     "output_type": "stream",
     "text": [
      "5% quantile: -1.96234146113\n",
      "observed t: -1.77654891023\n",
      "95% quantile: 1.96234146113\n"
     ]
    }
   ],
   "source": [
    "print \"5% quantile:\",stats.t.ppf(q = 0.025, df = samplesize-1)\n",
    "print \"observed t:\", t_obs\n",
    "print \"95% quantile:\",stats.t.ppf(q = 0.975, df = samplesize-1)"
   ]
  },
  {
   "cell_type": "markdown",
   "metadata": {},
   "source": [
    "Мы видим, что наблюдаемая величина выборочного среднего попадает в интервал $[ q_{0.05},q_{0.95}]$"
   ]
  },
  {
   "cell_type": "markdown",
   "metadata": {},
   "source": [
    "Подсчитаем величину P value:"
   ]
  },
  {
   "cell_type": "code",
   "execution_count": 95,
   "metadata": {
    "collapsed": false
   },
   "outputs": [
    {
     "name": "stdout",
     "output_type": "stream",
     "text": [
      "P value =  0.0759467594375\n"
     ]
    }
   ],
   "source": [
    "p_value_1 = min(2*(1 - stats.t.cdf(t_obs,samplesize-1)),2*(stats.t.cdf(t_obs,samplesize-1)))\n",
    "print \"P value = \",p_value_1"
   ]
  },
  {
   "cell_type": "markdown",
   "metadata": {},
   "source": [
    "=========================================================================================================="
   ]
  },
  {
   "cell_type": "markdown",
   "metadata": {},
   "source": [
    "1.2 Проверим гипотезу (гипотеза 2) о том, что средние значения зарплат за 2011 год в \"University of Washington\" и \"Social and Health Services\" равны используя двухвыборочный t-критерий Стьюдента:\n",
    "$$ H_0:  \\mu_1 = \\mu_2 $$\n",
    "\n",
    "Размеры выборок для простоты выберем одинаковыми и равными 1000"
   ]
  },
  {
   "cell_type": "code",
   "execution_count": 96,
   "metadata": {
    "collapsed": false
   },
   "outputs": [],
   "source": [
    "sample_1 = data[data[\"AgencyTitle\"] == 'University of Washington'].sample(n = samplesize)\n",
    "sample_2 = data[data[\"AgencyTitle\"] == 'Social and Health Services'].sample(n = samplesize)\n",
    "\n",
    "x_bar_1 = my_sample_mean(sample_1['Salary2011'])\n",
    "x_bar_2 = my_sample_mean(sample_2['Salary2011'])\n",
    "s_1 = my_unbiased_std(sample_1['Salary2011'])\n",
    "s_2 = my_unbiased_std(sample_2['Salary2011'])\n",
    "\n",
    "t_obs = np.sqrt(samplesize)*(x_bar_1 - x_bar_2)/np.sqrt(s_1**2 + s_2**2)"
   ]
  },
  {
   "cell_type": "code",
   "execution_count": 97,
   "metadata": {
    "collapsed": false
   },
   "outputs": [
    {
     "name": "stdout",
     "output_type": "stream",
     "text": [
      "5% quantile: -1.96115201484\n",
      "observed t: 11.9514384463\n",
      "95% quantile: 1.96115201484\n"
     ]
    }
   ],
   "source": [
    "print \"5% quantile:\",stats.t.ppf(q = 0.025, df = 2*samplesize-2)\n",
    "print \"observed t:\", t_obs\n",
    "print \"95% quantile:\",stats.t.ppf(q = 0.975, df = 2*samplesize-2)"
   ]
  },
  {
   "cell_type": "markdown",
   "metadata": {},
   "source": [
    "Видно, что наблюдаемое значение статистики не принадлежит доверительному интервалу.\n",
    "\n",
    "Величина P value при этом равна:"
   ]
  },
  {
   "cell_type": "code",
   "execution_count": 98,
   "metadata": {
    "collapsed": false
   },
   "outputs": [
    {
     "name": "stdout",
     "output_type": "stream",
     "text": [
      "P value =  0.0\n"
     ]
    }
   ],
   "source": [
    "p_value_2 = min(2*(1 - stats.t.cdf(t_obs,samplesize-1)),2*(stats.t.cdf(t_obs,samplesize-1)))\n",
    "print \"P value = \", p_value_2"
   ]
  },
  {
   "cell_type": "markdown",
   "metadata": {},
   "source": [
    "\n",
    "\n",
    "\n",
    "============================================================================================================\n",
    "\n",
    "\n"
   ]
  },
  {
   "cell_type": "markdown",
   "metadata": {},
   "source": [
    "Проведём непараметрический sign тест, в котором выясним, одинаковые ли медианы (гипотеза 3) распределений выбранных нами выборок:"
   ]
  },
  {
   "cell_type": "code",
   "execution_count": 99,
   "metadata": {
    "collapsed": false
   },
   "outputs": [
    {
     "name": "stdout",
     "output_type": "stream",
     "text": [
      "P value: 6.88698412518e-15\n"
     ]
    }
   ],
   "source": [
    "bin1 = sum(sample_1['Salary2011'] < sample_2['Salary2011'])\n",
    "bin2 = sum(sample_1['Salary2011'] != sample_2['Salary2011'])\n",
    "p_value_3 = stats.binom_test(bin1, bin2, p=0.5)\n",
    "print \"P value:\", p_value_3"
   ]
  },
  {
   "cell_type": "markdown",
   "metadata": {},
   "source": [
    "Так как P value говорит нам о том, насколько вероятно наблюдать полученное значение статистики при условии справедливости нулевой гипотезы, то из близости P value к нулю можем заключить, что скорее всего медианы данных распределений не равны "
   ]
  },
  {
   "cell_type": "markdown",
   "metadata": {},
   "source": [
    "============================================================================================================"
   ]
  },
  {
   "cell_type": "markdown",
   "metadata": {},
   "source": [
    "1.3 Проверим на равенство средние значения зарплат за 2011 и 2012 год (гипотеза 4) при помоши t-теста"
   ]
  },
  {
   "cell_type": "code",
   "execution_count": 100,
   "metadata": {
    "collapsed": false
   },
   "outputs": [
    {
     "name": "stdout",
     "output_type": "stream",
     "text": [
      "P value: 0.605465590871\n"
     ]
    }
   ],
   "source": [
    "p_value_4 = stats.ttest_ind(sample['Salary2011'],sample['Salary2012'])[1]\n",
    "print \"P value:\", p_value_4"
   ]
  },
  {
   "cell_type": "markdown",
   "metadata": {},
   "source": [
    "P value достаточно высоко, можно заключить, что среднее значение зарплат не изменилось"
   ]
  },
  {
   "cell_type": "markdown",
   "metadata": {},
   "source": [
    "Ну, и наконец, проведём непараметрический тест Манна-Уитни (гипотеза 5)"
   ]
  },
  {
   "cell_type": "code",
   "execution_count": 101,
   "metadata": {
    "collapsed": false
   },
   "outputs": [
    {
     "name": "stdout",
     "output_type": "stream",
     "text": [
      "P value: MannwhitneyuResult(statistic=492775.0, pvalue=0.28792119941298572)\n"
     ]
    }
   ],
   "source": [
    "p_value_5 = stats.mannwhitneyu(sample['Salary2011'],sample['Salary2012'])\n",
    "print \"P value:\", p_value_5"
   ]
  },
  {
   "cell_type": "markdown",
   "metadata": {},
   "source": [
    "============================================================================================================="
   ]
  },
  {
   "cell_type": "markdown",
   "metadata": {},
   "source": [
    "#### 2. Сформулируйте точную альтернативную гипотезу для одного из проведенных тестов и оцените мощность теста\n",
    "\n",
    "\n"
   ]
  },
  {
   "cell_type": "markdown",
   "metadata": {},
   "source": [
    "В пункте 1.1 была сформулирована гипотеза, что среднее значение заработной платы за 2011 год равно 65500:\n",
    "$$ H_0: \\mu = \\mu_0 = 65500.$$\n",
    "\n",
    "Конкретизируем альтернативную гипотезу $$H_1: \\mu > 65500$$\n",
    "Для определённости будем считать $\\mu_1 = 67000$, а уровень значимости $\\alpha = 0.05$."
   ]
  },
  {
   "cell_type": "code",
   "execution_count": 102,
   "metadata": {
    "collapsed": true
   },
   "outputs": [],
   "source": [
    "mu_0 = 65500\n",
    "mu_1 = 67000\n",
    "\n",
    "t_95 = stats.t.ppf(0.95,samplesize - 1)\n",
    "s = sample['Salary2011'].std()"
   ]
  },
  {
   "cell_type": "markdown",
   "metadata": {},
   "source": [
    "Мощность теста по определению вероятность отклонить гипотезу H_0, если на самом деле верна альтернативная гипотеза H. \n",
    "Мы отвергаем нулевую гипотезу, при $t_{observed}(\\mu_0) > t_{0.95}$, где $t_{0.95}$ - 95% квантиль t-распределения Стьюдента. \n",
    "Тогда $$\\bar{X} - \\mu_0 > t_{0.95}\\frac{s}{\\sqrt n}  \\rightarrow \\bar{X} - \\mu_1 > \\mu_0 - \\mu_1 +  t_{0.95}\\frac{s}{\\sqrt n} \\rightarrow t_{observed}(\\mu_1) = \\frac{\\bar{X} - \\mu_1}{s/\\sqrt n} > \\frac{\\mu_0 - \\mu_1}{s/\\sqrt n} + t_{0.95}$$\n",
    "\n",
    "Следовательно, мощностью теста будет являться вероятность наблюдения $t_{observed}(\\mu_1) > \\frac{\\mu_0 - \\mu_1}{s/\\sqrt n} + t_{0.95}$"
   ]
  },
  {
   "cell_type": "code",
   "execution_count": 103,
   "metadata": {
    "collapsed": false
   },
   "outputs": [
    {
     "name": "stdout",
     "output_type": "stream",
     "text": [
      "Power is:  0.303328368976\n"
     ]
    }
   ],
   "source": [
    "power = stats.t.sf((mu_0 - mu_1)/(s/np.sqrt(samplesize)) + t_95, samplesize - 1)\n",
    "print \"Power is: \",power"
   ]
  },
  {
   "cell_type": "markdown",
   "metadata": {},
   "source": [
    "*Построим power plot для различных значений $\\mu_1$ - средних альтернативной гипотезы*"
   ]
  },
  {
   "cell_type": "code",
   "execution_count": 104,
   "metadata": {
    "collapsed": false
   },
   "outputs": [
    {
     "data": {
      "text/plain": [
       "<matplotlib.text.Text at 0x7f2235464d90>"
      ]
     },
     "execution_count": 104,
     "metadata": {},
     "output_type": "execute_result"
    },
    {
     "data": {
      "image/png": "[encoded data removed]",
      "text/plain": [
       "<matplotlib.figure.Figure at 0x7f223193bd50>"
      ]
     },
     "metadata": {},
     "output_type": "display_data"
    }
   ],
   "source": [
    "powers = []\n",
    "for mu_1 in np.arange(mu_0, mu_0 + 10000, 500):\n",
    "    power = stats.t.sf((mu_0 - mu_1)/(s/np.sqrt(samplesize)) + t_95, samplesize - 1)\n",
    "    powers.append(power)\n",
    "powers = np.array(powers)\n",
    "\n",
    "plt.figure(figsize = (8,6))\n",
    "plt.plot(np.arange(mu_0, mu_0 + 10000, 500), powers)\n",
    "\n",
    "plt.title('power plot')\n",
    "plt.ylabel('Power')\n",
    "plt.xlabel('$\\mu_1$')"
   ]
  },
  {
   "cell_type": "markdown",
   "metadata": {},
   "source": [
    "*из power plot видно, что мощность более 0.8 достигается при значениях среднего у альтернативной гипотезы более 69500*"
   ]
  },
  {
   "cell_type": "markdown",
   "metadata": {},
   "source": [
    "#### 3. Рассматривая проведенные тесты как единую группу, сделайте поправку на множественное тестирование (FDR, Bonferroni, Sidak, Bonferroni-Holm). Изменились ли результаты?\n"
   ]
  },
  {
   "cell_type": "markdown",
   "metadata": {},
   "source": [
    "Указание в лекции: \n",
    "\n",
    "    **Метод Бонферрони**\n",
    "\n",
    "    Метод достаточно прост: мы рассчитываем p-value для каждой гипотезы в отдельности и отвергаем \"глобальную\" нулевую гипотезу только в том случае, если минимальное p-value меньше чем alpha.\n",
    "\n",
    "Проведём данную поправку"
   ]
  },
  {
   "cell_type": "code",
   "execution_count": 167,
   "metadata": {
    "collapsed": false
   },
   "outputs": [
    {
     "name": "stdout",
     "output_type": "stream",
     "text": [
      "Hypothesis 2 is rejected\n",
      "Hypothesis 3 is rejected\n",
      "Number of rejections is: 2\n"
     ]
    }
   ],
   "source": [
    "p_values = [\n",
    "    p_value_1,\n",
    "    p_value_2,\n",
    "    p_value_3,\n",
    "    p_value_4,\n",
    "    p_value_5\n",
    "]\n",
    "\n",
    "alpha = 0.05\n",
    "n = len(p_values)\n",
    "\n",
    "rejected_hypotheses = []\n",
    "\n",
    "for i,p_value in enumerate(p_values):\n",
    "    if p_value < alpha/n:\n",
    "        rejected_hypotheses.append(i+1)\n",
    "        print \"Hypothesis {} is rejected\".format(i+1)\n",
    "\n",
    "print \"Number of rejections is:\", len(rejected_hypotheses)"
   ]
  },
  {
   "cell_type": "markdown",
   "metadata": {},
   "source": [
    "#### 4. Постройте параметрические доверительные интервалы для среднего и непараметрические интервалы для медианы на основе бутстрепа\n"
   ]
  },
  {
   "cell_type": "markdown",
   "metadata": {},
   "source": [
    "Для начала построим непараметрический интервал для медианы:"
   ]
  },
  {
   "cell_type": "code",
   "execution_count": 123,
   "metadata": {
    "collapsed": true
   },
   "outputs": [],
   "source": [
    "init_median = np.median(population['Salary2011'])"
   ]
  },
  {
   "cell_type": "code",
   "execution_count": 124,
   "metadata": {
    "collapsed": false
   },
   "outputs": [
    {
     "data": {
      "text/plain": [
       "53424.0"
      ]
     },
     "execution_count": 124,
     "metadata": {},
     "output_type": "execute_result"
    }
   ],
   "source": [
    "init_median"
   ]
  },
  {
   "cell_type": "code",
   "execution_count": 125,
   "metadata": {
    "collapsed": false
   },
   "outputs": [],
   "source": [
    "errs = []\n",
    "for i in xrange(1000):\n",
    "    errs.append(init_median-resample(population['Salary2011'], replace=True).median())"
   ]
  },
  {
   "cell_type": "code",
   "execution_count": 127,
   "metadata": {
    "collapsed": false
   },
   "outputs": [
    {
     "name": "stdout",
     "output_type": "stream",
     "text": [
      "5 percentile is:  52848.0\n",
      "95 percentile is:  54178.0\n"
     ]
    }
   ],
   "source": [
    "print \"5 percentile is: \",init_median + np.percentile(np.sort(errs), 5)\n",
    "print \"95 percentile is: \",init_median + np.percentile(np.sort(errs), 95)"
   ]
  }
 ],
 "metadata": {
  "kernelspec": {
   "display_name": "Python [Root]",
   "language": "python",
   "name": "Python [Root]"
  },
  "language_info": {
   "codemirror_mode": {
    "name": "ipython",
    "version": 2
   },
   "file_extension": ".py",
   "mimetype": "text/x-python",
   "name": "python",
   "nbconvert_exporter": "python",
   "pygments_lexer": "ipython2",
   "version": "2.7.12"
  }
 },
 "nbformat": 4,
 "nbformat_minor": 0
}
